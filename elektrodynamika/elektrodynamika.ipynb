{
  "cells": [
    {
      "cell_type": "markdown",
      "metadata": {},
      "source": [
        "# Imports and Config"
      ]
    },
    {
      "cell_type": "code",
      "execution_count": null,
      "metadata": {},
      "outputs": [],
      "source": [
        "import numpy as np\n",
        "import matplotlib\n",
        "import matplotlib.pyplot as plt\n",
        "from scipy import constants\n",
        "%matplotlib inline\n",
        "matplotlib.rcParams[\"figure.dpi\"] = 100"
      ]
    },
    {
      "cell_type": "markdown",
      "metadata": {},
      "source": [
        "# Actual Stuff"
      ]
    },
    {
      "cell_type": "markdown",
      "metadata": {},
      "source": [
        "## Griffiths Úkol 2.15"
      ]
    },
    {
      "cell_type": "code",
      "execution_count": null,
      "metadata": {},
      "outputs": [],
      "source": [
        "def E(r, a=1, b=2, k=1e-6):\n",
        "    if r < a:\n",
        "        return 0\n",
        "    if r < b:\n",
        "        return 1/constants.epsilon_0 * 1/r**2 * k * (r-a)\n",
        "    else:\n",
        "        return 1/constants.epsilon_0 * 1/r**2 * k * (b-a)"
      ]
    },
    {
      "cell_type": "code",
      "execution_count": null,
      "metadata": {},
      "outputs": [],
      "source": [
        "x = np.linspace(0, 5, 500)\n",
        "plt.plot(x, np.vectorize(E)(x));"
      ]
    },
    {
      "cell_type": "markdown",
      "metadata": {},
      "source": [
        "## Griffiths úkol 2.22"
      ]
    },
    {
      "cell_type": "code",
      "execution_count": null,
      "metadata": {},
      "outputs": [],
      "source": [
        "def V(s, a=1, c=1):\n",
        "    return -c * np.log(s/a)"
      ]
    },
    {
      "cell_type": "code",
      "execution_count": null,
      "metadata": {},
      "outputs": [],
      "source": [
        "x = np.linspace(0, 3, 500)\n",
        "plt.plot(x, V(x));"
      ]
    },
    {
      "cell_type": "markdown",
      "metadata": {},
      "source": [
        "## Něco jiného"
      ]
    },
    {
      "cell_type": "markdown",
      "metadata": {},
      "source": [
        "## Griffiths úkol 3.13"
      ]
    },
    {
      "cell_type": "code",
      "execution_count": null,
      "metadata": {},
      "outputs": [],
      "source": [
        "from IPython.display import display"
      ]
    },
    {
      "cell_type": "code",
      "execution_count": null,
      "metadata": {},
      "outputs": [],
      "source": [
        "V0 = 3\n",
        "a = 1\n",
        "\n",
        "\n",
        "def V(x, y, n=100):\n",
        "    sum = 0\n",
        "    for i in range(n):\n",
        "        index = 4*i + 2\n",
        "        k = index * np.pi / a\n",
        "        \n",
        "        sum += 8 * V0 / (index * np.pi) * np.exp(-k * x) * np.sin(k * y)\n",
        "    \n",
        "    return sum"
      ]
    },
    {
      "cell_type": "code",
      "execution_count": null,
      "metadata": {},
      "outputs": [],
      "source": [
        "x, y = np.mgrid[0:2:200j, 0:1:200j]\n",
        "\n",
        "def redraw(n, vmin, vmax):\n",
        "    plt.figure(figsize=(8,5))\n",
        "    potential = V(x, y, n)\n",
        "    plt.imshow(potential.T, vmin=-vmin, vmax=vmax, extent=[x.min(), x.max(), y.min(), y.max()])\n",
        "    plt.contour(x, y, potential, levels=np.arange(-1,1.1,0.1), colors=\"black\", linewidths=0.5)"
      ]
    },
    {
      "cell_type": "code",
      "execution_count": null,
      "metadata": {},
      "outputs": [],
      "source": [
        "from ipywidgets import interact, FloatLogSlider\n",
        "\n",
        "interact(\n",
        "    redraw,\n",
        "    n=(1, 1000),\n",
        "    vmin=FloatLogSlider(min=-10, max=10, base=2),\n",
        "    vmax=FloatLogSlider(base=2, min=-10, max=10),\n",
        ")"
      ]
    },
    {
      "cell_type": "code",
      "execution_count": null,
      "metadata": {},
      "outputs": [],
      "source": [
        "np.exp2(-2)"
      ]
    },
    {
      "cell_type": "markdown",
      "metadata": {},
      "source": [
        "## Krtouš písemka"
      ]
    },
    {
      "cell_type": "code",
      "execution_count": null,
      "metadata": {},
      "outputs": [],
      "source": [
        "from ipywidgets import widgets, interactive"
      ]
    },
    {
      "cell_type": "code",
      "execution_count": null,
      "metadata": {},
      "outputs": [],
      "source": [
        "E0 = 1\n",
        "A = 1\n",
        "OMEGA = 1 / (2 * np.pi)\n",
        "\n",
        "def Ex(y, z, t=0):\n",
        "    return E0 * np.sin(np.pi * y / a) * np.cos(np.pi * z / a) * np.cos(OMEGA * t)\n",
        "\n",
        "y, z = np.mgrid[0:1:200j, 0:1:200j]\n",
        "\n",
        "def draw(t):\n",
        "    E_x = Ex(y, z, t)\n",
        "    plt.imshow(E_x.T, vmin=-1, vmax=1, extent=[y.min(), y.max(), z.min(), z.max()])"
      ]
    },
    {
      "cell_type": "code",
      "execution_count": null,
      "metadata": {},
      "outputs": [],
      "source": [
        "interact(draw, t=widgets.IntSlider(value=0, min=0, max=100))"
      ]
    },
    {
      "cell_type": "code",
      "execution_count": null,
      "metadata": {},
      "outputs": [],
      "source": []
    }
  ],
  "metadata": {
    "kernelspec": {
      "display_name": "Python 3",
      "language": "python",
      "name": "python3"
    },
    "language_info": {
      "codemirror_mode": {
        "name": "ipython",
        "version": 3
      },
      "file_extension": ".py",
      "mimetype": "text/x-python",
      "name": "python",
      "nbconvert_exporter": "python",
      "pygments_lexer": "ipython3",
      "version": "3.6.7"
    },
    "toc": {
      "base_numbering": 1,
      "nav_menu": {},
      "number_sections": true,
      "sideBar": true,
      "skip_h1_title": false,
      "title_cell": "Table of Contents",
      "title_sidebar": "Contents",
      "toc_cell": false,
      "toc_position": {},
      "toc_section_display": true,
      "toc_window_display": false
    },
    "varInspector": {
      "cols": {
        "lenName": 16,
        "lenType": 16,
        "lenVar": 40
      },
      "kernels_config": {
        "python": {
          "delete_cmd_postfix": "",
          "delete_cmd_prefix": "del ",
          "library": "var_list.py",
          "varRefreshCmd": "print(var_dic_list())"
        },
        "r": {
          "delete_cmd_postfix": ") ",
          "delete_cmd_prefix": "rm(",
          "library": "var_list.r",
          "varRefreshCmd": "cat(var_dic_list()) "
        }
      },
      "types_to_exclude": [
        "module",
        "function",
        "builtin_function_or_method",
        "instance",
        "_Feature"
      ],
      "window_display": false
    }
  },
  "nbformat": 4,
  "nbformat_minor": 2
}
